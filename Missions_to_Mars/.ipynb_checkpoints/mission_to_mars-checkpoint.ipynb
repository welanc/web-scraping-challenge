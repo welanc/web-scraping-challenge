{
 "cells": [
  {
   "cell_type": "code",
   "execution_count": 13,
   "metadata": {},
   "outputs": [],
   "source": [
    "# Dependencies\n",
    "from bs4 import BeautifulSoup\n",
    "import requests\n",
    "import pandas as pd\n",
    "import pymongo\n",
    "from splinter import Browser\n",
    "from webdriver_manager.chrome import ChromeDriverManager"
   ]
  },
  {
   "cell_type": "markdown",
   "metadata": {},
   "source": [
    "# Scraping\n",
    "<hr>"
   ]
  },
  {
   "cell_type": "markdown",
   "metadata": {},
   "source": [
    "### NASA Mars News Site\n",
    "<p> Scrape NASA Mars news site for latest headlines and preview text"
   ]
  },
  {
   "cell_type": "code",
   "execution_count": 14,
   "metadata": {},
   "outputs": [
    {
     "name": "stderr",
     "output_type": "stream",
     "text": [
      "[WDM] - ====== WebDriver manager ======\n",
      "[WDM] - Current google-chrome version is 88.0.4324\n",
      "[WDM] - Get LATEST driver version for 88.0.4324\n"
     ]
    },
    {
     "name": "stdout",
     "output_type": "stream",
     "text": [
      "\n",
      "\n"
     ]
    },
    {
     "name": "stderr",
     "output_type": "stream",
     "text": [
      "[WDM] - Get LATEST driver version for 88.0.4324\n",
      "[WDM] - Trying to download new driver from https://chromedriver.storage.googleapis.com/88.0.4324.96/chromedriver_win32.zip\n",
      "[WDM] - Driver has been saved in cache [C:\\Users\\WelanR_01\\.wdm\\drivers\\chromedriver\\win32\\88.0.4324.96]\n"
     ]
    }
   ],
   "source": [
    "executable_path = {'executable_path': ChromeDriverManager().install()}\n",
    "browser = Browser('chrome', **executable_path, headless=False)"
   ]
  },
  {
   "cell_type": "code",
   "execution_count": 15,
   "metadata": {},
   "outputs": [],
   "source": [
    "# Scrape the NASA Mars News Site and collect the latest News Title and Paragraph Text. \n",
    "# Assign the text to variables for later reference.\n",
    "\n",
    "# URL of page to be scraped\n",
    "url = 'https://mars.nasa.gov/news/'\n",
    "\n",
    "# Retrieve page in splinter browser\n",
    "browser.visit(url)"
   ]
  },
  {
   "cell_type": "code",
   "execution_count": 18,
   "metadata": {},
   "outputs": [],
   "source": [
    "# HTML object\n",
    "html = browser.html\n",
    "\n",
    "# Retrieve the parent divs for all articles\n",
    "soup = BeautifulSoup(html, 'lxml')"
   ]
  },
  {
   "cell_type": "markdown",
   "metadata": {},
   "source": [
    "#### Minor gotcha: website needs to be run through Splinter before scraping with BeautifulSoup, otherwise it won't appear in BeautifulSoup's scrape"
   ]
  },
  {
   "cell_type": "code",
   "execution_count": 25,
   "metadata": {},
   "outputs": [],
   "source": [
    "# Retrieve the parent divs for all headlines and preview text\n",
    "results = soup.find_all(\"div\", class_=\"list_text\")"
   ]
  },
  {
   "cell_type": "code",
   "execution_count": 31,
   "metadata": {
    "collapsed": true
   },
   "outputs": [
    {
     "name": "stdout",
     "output_type": "stream",
     "text": [
      "-----------------\n",
      "Testing Proves Its Worth With Successful Mars Parachute Deployment\n",
      "Mark your calendars: The agency's latest rover has only about 8,640,000 seconds to go before it touches down on the Red Planet, becoming history's next Mars car.\n",
      "-----------------\n",
      "NASA's Perseverance Rover Gives High-Definition Panoramic View of Landing Site\n",
      "Mark your calendars: The agency's latest rover has only about 8,640,000 seconds to go before it touches down on the Red Planet, becoming history's next Mars car.\n",
      "-----------------\n",
      "Nearly 11 Million Names of Earthlings are on Mars Perseverance\n",
      "Mark your calendars: The agency's latest rover has only about 8,640,000 seconds to go before it touches down on the Red Planet, becoming history's next Mars car.\n",
      "-----------------\n",
      "NASA's Mars Perseverance Rover Provides Front-Row Seat to Landing, First Audio Recording of Red Planet \n",
      "Mark your calendars: The agency's latest rover has only about 8,640,000 seconds to go before it touches down on the Red Planet, becoming history's next Mars car.\n",
      "-----------------\n",
      "NASA to Reveal New Video, Images From Mars Perseverance Rover\n",
      "Mark your calendars: The agency's latest rover has only about 8,640,000 seconds to go before it touches down on the Red Planet, becoming history's next Mars car.\n",
      "-----------------\n",
      "NASA's Mars Helicopter Reports In \n",
      "Mark your calendars: The agency's latest rover has only about 8,640,000 seconds to go before it touches down on the Red Planet, becoming history's next Mars car.\n",
      "-----------------\n",
      "NASA's Perseverance Rover Sends Sneak Peek of Mars Landing\n",
      "Mark your calendars: The agency's latest rover has only about 8,640,000 seconds to go before it touches down on the Red Planet, becoming history's next Mars car.\n",
      "-----------------\n",
      "Touchdown! NASA's Mars Perseverance Rover Safely Lands on Red Planet\n",
      "Mark your calendars: The agency's latest rover has only about 8,640,000 seconds to go before it touches down on the Red Planet, becoming history's next Mars car.\n",
      "-----------------\n",
      "Searching for Life in NASA's Perseverance Mars Samples\n",
      "Mark your calendars: The agency's latest rover has only about 8,640,000 seconds to go before it touches down on the Red Planet, becoming history's next Mars car.\n",
      "-----------------\n",
      "The Mars Relay Network Connects Us to NASA's Martian Explorers\n",
      "Mark your calendars: The agency's latest rover has only about 8,640,000 seconds to go before it touches down on the Red Planet, becoming history's next Mars car.\n",
      "-----------------\n",
      "NASA's Next Mars Rover Is Ready for the Most Precise Landing Yet\n",
      "Mark your calendars: The agency's latest rover has only about 8,640,000 seconds to go before it touches down on the Red Planet, becoming history's next Mars car.\n",
      "-----------------\n",
      "Sensors Prepare to Collect Data as Perseverance Enters Mars' Atmosphere\n",
      "Mark your calendars: The agency's latest rover has only about 8,640,000 seconds to go before it touches down on the Red Planet, becoming history's next Mars car.\n",
      "-----------------\n",
      "InSight Is Meeting the Challenge of Winter on Dusty Mars\n",
      "Mark your calendars: The agency's latest rover has only about 8,640,000 seconds to go before it touches down on the Red Planet, becoming history's next Mars car.\n",
      "-----------------\n",
      "NASA Invites Public to Share Thrill of Mars Perseverance Rover Landing\n",
      "Mark your calendars: The agency's latest rover has only about 8,640,000 seconds to go before it touches down on the Red Planet, becoming history's next Mars car.\n",
      "-----------------\n",
      "Tricky Terrain: Helping to Assure a Safe Rover Landing\n",
      "Mark your calendars: The agency's latest rover has only about 8,640,000 seconds to go before it touches down on the Red Planet, becoming history's next Mars car.\n",
      "-----------------\n",
      "Where Should Future Astronauts Land on Mars? Follow the Water\n",
      "Mark your calendars: The agency's latest rover has only about 8,640,000 seconds to go before it touches down on the Red Planet, becoming history's next Mars car.\n",
      "-----------------\n",
      "NASA's Perseverance Pays Off Back Home\n",
      "Mark your calendars: The agency's latest rover has only about 8,640,000 seconds to go before it touches down on the Red Planet, becoming history's next Mars car.\n",
      "-----------------\n",
      "Could the Surface of Phobos Reveal Secrets of the Martian Past?\n",
      "Mark your calendars: The agency's latest rover has only about 8,640,000 seconds to go before it touches down on the Red Planet, becoming history's next Mars car.\n",
      "-----------------\n",
      "NASA's MAVEN Continues to Advance Mars Science and Telecommunications Relay Efforts\n",
      "Mark your calendars: The agency's latest rover has only about 8,640,000 seconds to go before it touches down on the Red Planet, becoming history's next Mars car.\n",
      "-----------------\n",
      "NASA's Perseverance Rover 22 Days From Mars Landing\n",
      "Mark your calendars: The agency's latest rover has only about 8,640,000 seconds to go before it touches down on the Red Planet, becoming history's next Mars car.\n",
      "-----------------\n",
      "6 Things to Know About NASA's Mars Helicopter on Its Way to Mars\n",
      "Mark your calendars: The agency's latest rover has only about 8,640,000 seconds to go before it touches down on the Red Planet, becoming history's next Mars car.\n",
      "-----------------\n",
      "NASA to Host Virtual Briefing on February Perseverance Mars Rover Landing\n",
      "Mark your calendars: The agency's latest rover has only about 8,640,000 seconds to go before it touches down on the Red Planet, becoming history's next Mars car.\n",
      "-----------------\n",
      "NASA InSight's ‘Mole' Ends Its Journey on Mars\n",
      "Mark your calendars: The agency's latest rover has only about 8,640,000 seconds to go before it touches down on the Red Planet, becoming history's next Mars car.\n",
      "-----------------\n",
      "Mars 2020 Perseverance Rover to Capture Sounds From the Red Planet\n",
      "Mark your calendars: The agency's latest rover has only about 8,640,000 seconds to go before it touches down on the Red Planet, becoming history's next Mars car.\n",
      "-----------------\n",
      "NASA's Curiosity Rover Reaches Its 3,000th Day on Mars\n",
      "Mark your calendars: The agency's latest rover has only about 8,640,000 seconds to go before it touches down on the Red Planet, becoming history's next Mars car.\n",
      "-----------------\n",
      "Celebrate the Perseverance Rover Landing With NASA's Student Challenge\n",
      "Mark your calendars: The agency's latest rover has only about 8,640,000 seconds to go before it touches down on the Red Planet, becoming history's next Mars car.\n",
      "-----------------\n",
      "NASA Extends Exploration for Two Planetary Science Missions\n",
      "Mark your calendars: The agency's latest rover has only about 8,640,000 seconds to go before it touches down on the Red Planet, becoming history's next Mars car.\n",
      "-----------------\n",
      "7 Things to Know About the NASA Rover About to Land on Mars\n",
      "Mark your calendars: The agency's latest rover has only about 8,640,000 seconds to go before it touches down on the Red Planet, becoming history's next Mars car.\n",
      "-----------------\n",
      "A Martian Roundtrip: NASA's Perseverance Rover Sample Tubes\n",
      "Mark your calendars: The agency's latest rover has only about 8,640,000 seconds to go before it touches down on the Red Planet, becoming history's next Mars car.\n",
      "-----------------\n",
      "NASA Moves Forward With Campaign to Return Mars Samples to Earth\n",
      "Mark your calendars: The agency's latest rover has only about 8,640,000 seconds to go before it touches down on the Red Planet, becoming history's next Mars car.\n",
      "-----------------\n",
      "3 Things We've Learned From NASA's Mars InSight \n",
      "Mark your calendars: The agency's latest rover has only about 8,640,000 seconds to go before it touches down on the Red Planet, becoming history's next Mars car.\n",
      "-----------------\n",
      "From JPL's Mailroom to Mars and Beyond\n",
      "Mark your calendars: The agency's latest rover has only about 8,640,000 seconds to go before it touches down on the Red Planet, becoming history's next Mars car.\n",
      "-----------------\n",
      "5 Hidden Gems Are Riding Aboard NASA's Perseverance Rover\n",
      "Mark your calendars: The agency's latest rover has only about 8,640,000 seconds to go before it touches down on the Red Planet, becoming history's next Mars car.\n",
      "-----------------\n",
      "MOXIE Could Help Future Rockets Launch Off Mars\n",
      "Mark your calendars: The agency's latest rover has only about 8,640,000 seconds to go before it touches down on the Red Planet, becoming history's next Mars car.\n",
      "-----------------\n",
      "Hear Audio From NASA's Perseverance As It Travels Through Deep Space\n",
      "Mark your calendars: The agency's latest rover has only about 8,640,000 seconds to go before it touches down on the Red Planet, becoming history's next Mars car.\n",
      "-----------------\n",
      "Mars Is Getting a New Robotic Meteorologist\n",
      "Mark your calendars: The agency's latest rover has only about 8,640,000 seconds to go before it touches down on the Red Planet, becoming history's next Mars car.\n",
      "-----------------\n",
      "Heat and Dust Help Launch Martian Water Into Space, Scientists Find\n",
      "Mark your calendars: The agency's latest rover has only about 8,640,000 seconds to go before it touches down on the Red Planet, becoming history's next Mars car.\n",
      "-----------------\n",
      "NASA's Curiosity Takes Selfie With 'Mary Anning' on the Red Planet\n",
      "Mark your calendars: The agency's latest rover has only about 8,640,000 seconds to go before it touches down on the Red Planet, becoming history's next Mars car.\n",
      "-----------------\n",
      "Independent Review Indicates NASA Prepared for Mars Sample Return Campaign\n",
      "Mark your calendars: The agency's latest rover has only about 8,640,000 seconds to go before it touches down on the Red Planet, becoming history's next Mars car.\n",
      "-----------------\n",
      "NASA's Perseverance Rover 100 Days Out\n",
      "Mark your calendars: The agency's latest rover has only about 8,640,000 seconds to go before it touches down on the Red Planet, becoming history's next Mars car.\n"
     ]
    }
   ],
   "source": [
    "# Create empty lists to append with headlines and preview text data\n",
    "headers = list()\n",
    "preview_texts = list()\n",
    "\n",
    "# loop over results to get headlines and preview text data\n",
    "for result in results:\n",
    "    # scrape the article header \n",
    "    header = result.find(\"div\", class_=\"content_title\").text\n",
    "    \n",
    "    # scrape the article subheader\n",
    "    preview_text = result.find(\"div\", class_=\"article_teaser_body\").text\n",
    "    \n",
    "    # print article data\n",
    "    print('-----------------')\n",
    "    print(header)\n",
    "    print(subheader)\n",
    "\n",
    "    # Append lists with headlines and preview texts\n",
    "    headers.append(header)\n",
    "    preview_texts.append(preview_text)"
   ]
  },
  {
   "cell_type": "markdown",
   "metadata": {},
   "source": [
    "### NASA JPL Images\n",
    "<p> Scrape NASA Mars news site for latest headlines and preview text"
   ]
  },
  {
   "cell_type": "code",
   "execution_count": 54,
   "metadata": {},
   "outputs": [],
   "source": [
    "# URL of JPL page to be scraped\n",
    "jpl_url = \"https://data-class-jpl-space.s3.amazonaws.com/JPL_Space/index.html\"\n",
    "\n",
    "# Retrieve page in splinter browser\n",
    "browser.visit(jpl_url)"
   ]
  },
  {
   "cell_type": "code",
   "execution_count": 41,
   "metadata": {},
   "outputs": [],
   "source": [
    "# HTML object\n",
    "jpl_html = browser.html\n",
    "\n",
    "# Retrieve the parent divs for all articles\n",
    "jpl_soup = BeautifulSoup(jpl_html, 'lxml')"
   ]
  },
  {
   "cell_type": "code",
   "execution_count": 43,
   "metadata": {},
   "outputs": [],
   "source": [
    "# Retrieve featured image relative URL \n",
    "featured_image = jpl_soup.find(\"img\", class_=\"headerimage\")[\"src\"]"
   ]
  },
  {
   "cell_type": "markdown",
   "metadata": {},
   "source": [
    "#### Minor gotcha: JPL url needs to have the \"index.html\" suffix removed before appending the image's relative URL"
   ]
  },
  {
   "cell_type": "code",
   "execution_count": 58,
   "metadata": {},
   "outputs": [
    {
     "data": {
      "text/plain": [
       "['https://data-class-jpl-space.s3.amazonaws.com/JPL_Space/', '']"
      ]
     },
     "execution_count": 58,
     "metadata": {},
     "output_type": "execute_result"
    }
   ],
   "source": [
    "# Clean up the webpage URL to combine with \n",
    "# featured image relative URL to create full URL\n",
    "clean_url = jpl_url.split(\"index.html\")"
   ]
  },
  {
   "cell_type": "code",
   "execution_count": 59,
   "metadata": {},
   "outputs": [],
   "source": [
    "# Concatenate URLs to create full featured image URL\n",
    "featured_image_url = clean_url[0] + featured_image"
   ]
  },
  {
   "cell_type": "code",
   "execution_count": 60,
   "metadata": {},
   "outputs": [
    {
     "data": {
      "text/plain": [
       "'https://data-class-jpl-space.s3.amazonaws.com/JPL_Space/image/featured/mars2.jpg'"
      ]
     },
     "execution_count": 60,
     "metadata": {},
     "output_type": "execute_result"
    }
   ],
   "source": [
    "featured_image_url"
   ]
  },
  {
   "cell_type": "markdown",
   "metadata": {},
   "source": [
    "### Mars Facts\n",
    "<p> Scrape Space Facts website for space facts"
   ]
  },
  {
   "cell_type": "code",
   "execution_count": 78,
   "metadata": {},
   "outputs": [],
   "source": [
    "# URL of Space Facts page to be scraped\n",
    "facts_url = \"https://space-facts.com/mars/\""
   ]
  },
  {
   "cell_type": "code",
   "execution_count": 79,
   "metadata": {},
   "outputs": [
    {
     "data": {
      "text/plain": [
       "[                      0                              1\n",
       " 0  Equatorial Diameter:                       6,792 km\n",
       " 1       Polar Diameter:                       6,752 km\n",
       " 2                 Mass:  6.39 × 10^23 kg (0.11 Earths)\n",
       " 3                Moons:            2 (Phobos & Deimos)\n",
       " 4       Orbit Distance:       227,943,824 km (1.38 AU)\n",
       " 5         Orbit Period:           687 days (1.9 years)\n",
       " 6  Surface Temperature:                   -87 to -5 °C\n",
       " 7         First Record:              2nd millennium BC\n",
       " 8          Recorded By:           Egyptian astronomers,\n",
       "   Mars - Earth Comparison             Mars            Earth\n",
       " 0               Diameter:         6,779 km        12,742 km\n",
       " 1                   Mass:  6.39 × 10^23 kg  5.97 × 10^24 kg\n",
       " 2                  Moons:                2                1\n",
       " 3      Distance from Sun:   227,943,824 km   149,598,262 km\n",
       " 4         Length of Year:   687 Earth days      365.24 days\n",
       " 5            Temperature:     -87 to -5 °C      -88 to 58°C,\n",
       "                       0                              1\n",
       " 0  Equatorial Diameter:                       6,792 km\n",
       " 1       Polar Diameter:                       6,752 km\n",
       " 2                 Mass:  6.39 × 10^23 kg (0.11 Earths)\n",
       " 3                Moons:            2 (Phobos & Deimos)\n",
       " 4       Orbit Distance:       227,943,824 km (1.38 AU)\n",
       " 5         Orbit Period:           687 days (1.9 years)\n",
       " 6  Surface Temperature:                   -87 to -5 °C\n",
       " 7         First Record:              2nd millennium BC\n",
       " 8          Recorded By:           Egyptian astronomers]"
      ]
     },
     "execution_count": 79,
     "metadata": {},
     "output_type": "execute_result"
    }
   ],
   "source": [
    "# Get all tables in URL via pandas\n",
    "tables = pd.read_html(facts_url)\n",
    "tables"
   ]
  },
  {
   "cell_type": "code",
   "execution_count": 80,
   "metadata": {},
   "outputs": [],
   "source": [
    "# Save relevant table as DataFrame\n",
    "df = tables[0]"
   ]
  },
  {
   "cell_type": "code",
   "execution_count": 81,
   "metadata": {},
   "outputs": [],
   "source": [
    "# Rename column headers to appropriate names\n",
    "df = df.rename(columns={0:\"Description\",1:\"Mars\"})"
   ]
  },
  {
   "cell_type": "code",
   "execution_count": 82,
   "metadata": {},
   "outputs": [],
   "source": [
    "# Export table as HTML string, remove superfluous index\n",
    "df.to_html('table.html', index=False)"
   ]
  },
  {
   "cell_type": "markdown",
   "metadata": {},
   "source": [
    "### Mars Hemispheres\n",
    "<p> Scrape USGS Astrogeology website for Mars hemispheres facts"
   ]
  },
  {
   "cell_type": "code",
   "execution_count": null,
   "metadata": {},
   "outputs": [],
   "source": []
  }
 ],
 "metadata": {
  "kernelspec": {
   "display_name": "Python [conda env:PythonData] *",
   "language": "python",
   "name": "conda-env-PythonData-py"
  },
  "language_info": {
   "codemirror_mode": {
    "name": "ipython",
    "version": 3
   },
   "file_extension": ".py",
   "mimetype": "text/x-python",
   "name": "python",
   "nbconvert_exporter": "python",
   "pygments_lexer": "ipython3",
   "version": "3.6.10"
  }
 },
 "nbformat": 4,
 "nbformat_minor": 4
}
